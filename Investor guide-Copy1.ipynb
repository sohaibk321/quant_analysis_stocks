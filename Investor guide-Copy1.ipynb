{
 "cells": [
  {
   "cell_type": "code",
   "execution_count": 10,
   "metadata": {},
   "outputs": [
    {
     "ename": "ModuleNotFoundError",
     "evalue": "No module named 'pandas_datareader'",
     "output_type": "error",
     "traceback": [
      "\u001b[1;31m---------------------------------------------------------------------------\u001b[0m",
      "\u001b[1;31mModuleNotFoundError\u001b[0m                       Traceback (most recent call last)",
      "\u001b[1;32m<ipython-input-10-88d008f7fa0d>\u001b[0m in \u001b[0;36m<module>\u001b[1;34m()\u001b[0m\n\u001b[0;32m      9\u001b[0m \u001b[1;32mimport\u001b[0m \u001b[0mmatplotlib\u001b[0m\u001b[1;33m.\u001b[0m\u001b[0mdates\u001b[0m \u001b[1;32mas\u001b[0m \u001b[0mdates\u001b[0m\u001b[1;33m\u001b[0m\u001b[0m\n\u001b[0;32m     10\u001b[0m \u001b[1;32mimport\u001b[0m \u001b[0mseaborn\u001b[0m \u001b[1;32mas\u001b[0m \u001b[0msns\u001b[0m\u001b[1;33m\u001b[0m\u001b[0m\n\u001b[1;32m---> 11\u001b[1;33m \u001b[1;32mimport\u001b[0m \u001b[0mpandas_datareader\u001b[0m \u001b[1;32mas\u001b[0m \u001b[0mweb\u001b[0m\u001b[1;33m\u001b[0m\u001b[0m\n\u001b[0m\u001b[0;32m     12\u001b[0m \u001b[1;32mfrom\u001b[0m \u001b[0msklearn\u001b[0m\u001b[1;33m.\u001b[0m\u001b[0mmetrics\u001b[0m \u001b[1;32mimport\u001b[0m \u001b[0mmean_squared_error\u001b[0m \u001b[1;32mas\u001b[0m \u001b[0mmse\u001b[0m\u001b[1;33m\u001b[0m\u001b[0m\n\u001b[0;32m     13\u001b[0m \u001b[1;32mfrom\u001b[0m \u001b[0mstatsmodels\u001b[0m\u001b[1;33m.\u001b[0m\u001b[0mtsa\u001b[0m\u001b[1;33m.\u001b[0m\u001b[0mstattools\u001b[0m \u001b[1;32mimport\u001b[0m \u001b[0madfuller\u001b[0m\u001b[1;33m\u001b[0m\u001b[0m\n",
      "\u001b[1;31mModuleNotFoundError\u001b[0m: No module named 'pandas_datareader'"
     ]
    }
   ],
   "source": [
    "import pandas as pd\n",
    "import numpy as np\n",
    "import datetime as dt\n",
    "import matplotlib.pyplot as plt\n",
    "from matplotlib import style\n",
    "from matplotlib import RcParams\n",
    "#import mpl_finance as finance\n",
    "import matplotlib.ticker as ticker\n",
    "import matplotlib.dates as dates\n",
    "import seaborn as sns\n",
    "import pandas_datareader as web\n",
    "from sklearn.metrics import mean_squared_error as mse\n",
    "from statsmodels.tsa.stattools import adfuller\n",
    "from statsmodels.tsa.stattools import acf, pacf\n",
    "from statsmodels.tsa.arima_model import ARIMA"
   ]
  },
  {
   "cell_type": "markdown",
   "metadata": {},
   "source": [
    "# Workflow\n",
    "\n",
    "* Exploratory data analysis (EDA)\n",
    "* Set up features (high-low, high-Close(previous), low-Close(previous), gap-up, gap-down)\n",
    "* calculate true range(TR) and average true range (ATR)\n",
    "* set up volatility index from previous historical values\n",
    "* Look into GARCH modeling for volatility\n",
    "* \n",
    "\n",
    "### TR and ATR\n",
    "\n",
    "__TR__: max value between 3 methods\n",
    "\n",
    "_Method 1: Current High minus the current Low_\n",
    "\n",
    "_Method 2: Current High minus the previous Close (absolute value)_\n",
    "\n",
    "_Method 3: Current Low minus the previous Close (absolute value)_\n",
    "\n",
    "__ATR__: Calculated based on 14 periods. For stock data, weekends are not included so 14 periods is roughly 3 weeks of data.\n",
    "\n",
    "$$Current ATR = [(ATR_P) * 13) + ATR_C] / 14$$\n",
    "\n",
    "Where the P is prior and C is current in the ATR variables.\n",
    "\n",
    "ATR requires a good deal of data to deliver valuable insight, so if we have little daily data, then our volatility index might be affected.\n",
    "\n",
    "### Support and Resistance Lines\n",
    "\n",
    "For a given period, such as one trading year, one can find a window in which a stock's price may generally fall into. Given the year, the max price of the stock is marked as the resistance line while the lowest price it's been is marked as the support line. The idea is that the stock will generally fall within this range for normal situations. If the price of the stock gets close to the support line, this is a good buy signal. When the price of the stock gets towards the resistance line or goes higher, its a sign that the market is in for a reversal and it may be a good sell signal. Reversals can happen either in the uptrend or downtrend, it just depends which direction the stock was before the predicted reversal period. \n",
    "\n",
    "The advantage of this method is that it's very simple to calculate and can be very accurate in an intuitive sense. However, the disadvantage is that it's not very nuanced and if one places an algorithmic buy signal at the support line, the stock might pullback or go through a reversal near the support line but not at the actual level. Therefor, it's a good strategy to compliment this signal with other, more nuanced signals in one's trading strategy. "
   ]
  },
  {
   "cell_type": "markdown",
   "metadata": {},
   "source": [
    "# Data preparation"
   ]
  },
  {
   "cell_type": "code",
   "execution_count": null,
   "metadata": {
    "collapsed": true
   },
   "outputs": [],
   "source": [
    "style.use('ggplot')\n",
    "plt.rcParams['figure.figsize'] = (15,7) # Setting default params for figures\n",
    "start = dt.datetime(2000, 1, 1)\n",
    "end = dt.datetime(2019,3,12)\n",
    "#%matplotlib inline"
   ]
  },
  {
   "cell_type": "code",
   "execution_count": null,
   "metadata": {},
   "outputs": [],
   "source": [
    "comp_list = pd.read_csv(\"companylist.csv\", usecols=['Symbol', 'Name', 'MarketCap', 'Sector'])\n",
    "comp_list.shape"
   ]
  },
  {
   "cell_type": "code",
   "execution_count": null,
   "metadata": {
    "collapsed": true
   },
   "outputs": [],
   "source": [
    "comp_list.dropna(axis=0, inplace=True)"
   ]
  },
  {
   "cell_type": "code",
   "execution_count": null,
   "metadata": {},
   "outputs": [],
   "source": [
    "top_earners = comp_list[comp_list['MarketCap']>1e9]\n",
    "top_earners.sort_values(by='MarketCap', axis=0, ascending=False).head(10)"
   ]
  },
  {
   "cell_type": "code",
   "execution_count": null,
   "metadata": {},
   "outputs": [],
   "source": [
    "comp_list['Sector'].value_counts()"
   ]
  },
  {
   "cell_type": "code",
   "execution_count": null,
   "metadata": {
    "collapsed": true
   },
   "outputs": [],
   "source": [
    "def rearrange_cols(item): # This tomake the dataframes look a little bit nicer\n",
    "    cols = item.columns.tolist()\n",
    "    cols = cols[-2:] + cols[:-2]\n",
    "    return item[cols]"
   ]
  },
  {
   "cell_type": "code",
   "execution_count": null,
   "metadata": {
    "collapsed": true
   },
   "outputs": [],
   "source": [
    "tsla_df = web.DataReader('TSLA', 'yahoo', start, end)\n",
    "tsla_df['name'] = 'Tesla, Inc.'\n",
    "tsla_df['symbol'] = 'TSLA'\n",
    "tsla_df = rearrange_cols(tsla_df)\n",
    "\n",
    "cgnx_df = web.DataReader('CGNX', 'yahoo', start, end)\n",
    "cgnx_df['name'] = 'Cognex Corporation'\n",
    "cgnx_df['symbol'] = 'CGNX'\n",
    "cgnx_df = rearrange_cols(cgnx_df)\n",
    "\n",
    "lulu_df = web.DataReader('LULU', 'yahoo', start, end)\n",
    "lulu_df['name'] = 'lululemon athletica inc.'\n",
    "lulu_df['symbol'] = 'LULU'\n",
    "lulu_df = rearrange_cols(lulu_df)\n",
    "\n",
    "pep_df = web.DataReader('PEP', 'yahoo', start, end)\n",
    "pep_df['name'] = 'Pepsico, Inc.'\n",
    "pep_df['symbol'] = 'PEP'\n",
    "pep_df = rearrange_cols(pep_df)\n",
    "\n",
    "amzn_df = web.DataReader('AMZN', 'yahoo', start, end)\n",
    "amzn_df['name'] = 'Amazon.com, Inc.'\n",
    "amzn_df['symbol'] = 'AMZN'\n",
    "amzn_df = rearrange_cols(amzn_df)\n",
    "\n",
    "fox_df = web.DataReader('FOX', 'yahoo', start, end)\n",
    "fox_df['name'] = 'Twenty-First Century Fox, Inc.'\n",
    "fox_df['symbol'] = 'FOX'\n",
    "fox_df = rearrange_cols(fox_df)\n",
    "\n",
    "aapl_df = web.DataReader('AAPL', 'yahoo', start, end)\n",
    "aapl_df['name'] = 'Apple Inc.'\n",
    "aapl_df['symbol'] = 'AAPL'\n",
    "aapl_df = rearrange_cols(aapl_df)\n",
    "\n",
    "goog_df = web.DataReader('GOOG', 'yahoo', start, end)\n",
    "goog_df['name'] = 'Alphabet Inc.'\n",
    "goog_df['symbol'] = 'GOOG'\n",
    "goog_df = rearrange_cols(goog_df)\n",
    "\n",
    "msft_df = web.DataReader('MSFT', 'yahoo', start, end)\n",
    "msft_df['name'] = 'Microsoft Corporation'\n",
    "msft_df['symbol'] = 'MSFT'\n",
    "msft_df = rearrange_cols(msft_df)\n",
    "\n",
    "nvda_df = web.DataReader('NVDA', 'yahoo', start, end)\n",
    "nvda_df['name'] = 'NVIDIA Corporation'\n",
    "nvda_df['symbol'] = 'NVDA'\n",
    "nvda_df = rearrange_cols(nvda_df)\n",
    "\n",
    "dfs = [tsla_df, cgnx_df, lulu_df, pep_df, amzn_df, fox_df, aapl_df, goog_df, msft_df, nvda_df]"
   ]
  },
  {
   "cell_type": "code",
   "execution_count": null,
   "metadata": {},
   "outputs": [],
   "source": [
    "tsla_df.head(12)"
   ]
  },
  {
   "cell_type": "code",
   "execution_count": null,
   "metadata": {},
   "outputs": [],
   "source": [
    "#Past trading years closing price\n",
    "tsla_df['Adj Close'][-252:].plot(kind='line')\n",
    "tsla_df['Open'][-252:].plot()\n",
    "plt.title('Adj Close Price')\n",
    "plt.legend()\n",
    "plt.show()"
   ]
  },
  {
   "cell_type": "code",
   "execution_count": null,
   "metadata": {
    "collapsed": true
   },
   "outputs": [],
   "source": [
    "# Feature engineering\n",
    "def set_spreads(df):\n",
    "    for items in df:\n",
    "        items['High-Low'] = items['High'] - items['Low']\n",
    "        items['|H-Cp|'] = np.abs(items['High'] - items['Adj Close'].shift(-1))\n",
    "        items['|L-Cp|'] = np.abs(items['Low'] - items['Adj Close'].shift(-1))\n",
    "        items['Open-Close'] = items['Open'] - items['Adj Close']\n",
    "        items['Open-High'] = items['Open'] - items['High'].shift(-1)\n",
    "        items['Open-Low'] = items['Open'] - items['Low'].shift(-1)\n",
    "        items['gap_up'] = np.where(items['Open-High']>0, 1, 0)\n",
    "        items['gap_down'] = np.where(items['Open-Low']<0, 1, 0)\n",
    "        items['TR'] = items[['High-Low', '|H-Cp|', '|L-Cp|']].max(axis=1)\n",
    "        items['21_MA'] = items['Adj Close'].rolling(21, min_periods=0).mean() #The moving average for a usual monthly trading period\n",
    "        items['5_MA'] = items['Adj Close'].rolling(5, min_periods=0).mean()\n",
    "        items['100_MA'] = items['Adj Close'].rolling(100, min_periods=0).mean()\n",
    "        items['ATR'] = np.divide(items['TR'].rolling(5, min_periods=0).sum(), 5) #Calculating moving average of TR for a standard trading week\n",
    "        items['% ATR'] = np.divide(items['ATR'], items['Adj Close']) * 100\n",
    "        items['Volatility %(Annualized)'] = items['Adj Close'].pct_change().rolling(14, min_periods=0).std(ddof=0)*(252**.5)*100\n",
    "        items['Volatility %(Weekly)'] = items['Adj Close'].pct_change().rolling(14, min_periods=0).std(ddof=0)*(52**.5)*100\n",
    "        items['Volatility %(Monthly)'] = items['Adj Close'].pct_change().rolling(14, min_periods=0).std(ddof=0)*(12**.5)*100\n",
    "        items['Compounded_Returns'] = np.log(items['Adj Close']/items['Adj Close'].shift(-1))\n",
    "        \n",
    "        \n",
    "set_spreads(dfs)"
   ]
  },
  {
   "cell_type": "code",
   "execution_count": null,
   "metadata": {},
   "outputs": [],
   "source": [
    "tsla_df[['Open', 'High', 'Low', 'High-Low', '|H-Cp|', '|L-Cp|', 'Adj Close', '' 'TR', 'ATR']].head(12)"
   ]
  },
  {
   "cell_type": "code",
   "execution_count": null,
   "metadata": {},
   "outputs": [],
   "source": [
    "tsla_df.tail(20)"
   ]
  },
  {
   "cell_type": "markdown",
   "metadata": {},
   "source": [
    "## Moving averages as trend indicators\n",
    "\n",
    "A simple way to find trends in stocks is instead of looking at price day to day, we look at the averages price over a given interval of time. This is known as a moving average (MA). There are 2 main types of moving averages in technical analysis and each has its own advantages and disadvantages. \n",
    "\n",
    "There is the simple moving average (SMA) and the exponential moving average (EMA). The SMA is useful in that it provides a smooth trend curve that is easy to interpret and works well for long term trends. However, it's not very responsive to sharp changes in the market which may be caused by a reversal in the stock trend. \n",
    "\n",
    "The EMA is beneficial in that it's weighted by the most recent price so changes in stock price are more palpable in this measure. This makes it so that some data from the past which may be irrelevant is not considered as highly in finding the trend. The problem with this is that it can lead to very jagged trends and is prone to false signals/noise. \n",
    "\n",
    "The SMA is a good component to use if we have a longer time frame in mind such as with daily or weekly data. The EMA is more useful in an intraday trading strategy in which stock data is given every 15 minutes or some measure close ot that. In the context of this project, we are looking at long term trading and not necessarily day trading which is very risky and requires a good investment of time, therefor we will use the SMA. "
   ]
  },
  {
   "cell_type": "code",
   "execution_count": null,
   "metadata": {},
   "outputs": [],
   "source": [
    "ax1 = plt.subplot2grid((9,1), loc=(0,0), rowspan=4, colspan=(1))\n",
    "ax2 = plt.subplot2grid((9,1), loc=(5,0), rowspan=2, colspan=(1), sharex=ax1)\n",
    "ax3 = plt.subplot2grid((9,1), loc=(7,0), rowspan=2, colspan=(1), sharex=ax1)\n",
    "start = -252 #1 trading year\n",
    "end = -1\n",
    "\n",
    "\n",
    "ax1.plot(tsla_df.index[start:], tsla_df['Adj Close'][start:])\n",
    "ax1.plot(tsla_df.index[start:], tsla_df['21_MA'][start:])\n",
    "ax1.plot(tsla_df.index[start:], tsla_df['5_MA'][start:])\n",
    "ax1.plot(tsla_df.index[start:], tsla_df['100_MA'][start:])\n",
    "ax2.fill_between(tsla_df.index[start:], tsla_df['Volume'][start:], 0)\n",
    "#ax2.ylabel('Volume')\n",
    "ax3.plot(tsla_df.index[start:], tsla_df['% ATR'][start:])\n",
    "ax1.legend()\n",
    "ax3.legend()\n",
    "plt.show()"
   ]
  },
  {
   "cell_type": "markdown",
   "metadata": {},
   "source": [
    "# Analyzing trends and which metrics to pick\n",
    "\n",
    "In the above graph, we have mapped out the adjusted closing price of Tesla stock, 3 variations of of the rolling moving average (5 day, 21 day, 100 day), volume of stock being traded, and finally the rolling volatility with a window of 12 days. \n",
    "\n",
    "From the top graph, we see that the 100 day moving average is near useless for helping with any trend. The 21 day MA gets close, but seems to be lagging forward of the actual price trends. The 5 day MA gets the closest to the actual trend of the stock, making it a good candidate for further technical analysis. \n",
    "\n",
    "Another thing we see is that volume seems to correlate with volatility of the stock. Although not perfect, increases in volume seem to mark changes in stock price, whether that's up or down.\n",
    "Finally, we analyze the annualized rolling volatility % change which was calculated with a window of 14 days. It also seems to have a slight trend associated with price of stock, although not as consistently as volume."
   ]
  },
  {
   "cell_type": "markdown",
   "metadata": {},
   "source": [
    "# Interpreting a candlebar graph\n",
    "\n",
    "Below is one of the most common tools used in technical analysis. It's the candlebar graph. This relatively simple graph conveys a great breadth of information including a particular stock's high, low, open, and close prices for a given time period. The flat ends of the bar part of the graph represent the open and close price. The line's coming out of the bars are indicators for the high and low price for that particular day. The addition of color changes how one reads the graphs.\n",
    "\n",
    "The colors of the graph indicate direction of stock price for a given day. If a bar is green, then that means the stock was in an uptrend for the day and it closed higher than it opened for. With that in mind, the top line indicates the days price high and the bottom line indicates the days price low. The upper bart of the bar shows the close price and the lower part shows the days open price. \n",
    "\n",
    "When the bars are red, the major difference is that the indicators for the bars are switched. In red bars, the top part of the bar represents the open price and the bottom part represents the close price. The lines still hold their original meaning no matter the color. \n",
    "\n",
    "Now the color can be changed to any type we want but usually, downstrends are red and uptrends are either green or black. \n",
    "\n",
    "Armed with this knowledge, and with practice over time, one may graze over these graphs and gather a large amount of information and eventually form heuristics for price trends. "
   ]
  },
  {
   "cell_type": "code",
   "execution_count": 2,
   "metadata": {},
   "outputs": [
    {
     "ename": "NameError",
     "evalue": "name 'tsla_df' is not defined",
     "output_type": "error",
     "traceback": [
      "\u001b[1;31m---------------------------------------------------------------------------\u001b[0m",
      "\u001b[1;31mNameError\u001b[0m                                 Traceback (most recent call last)",
      "\u001b[1;32m<ipython-input-2-c635e97d60e1>\u001b[0m in \u001b[0;36m<module>\u001b[1;34m()\u001b[0m\n\u001b[1;32m----> 1\u001b[1;33m \u001b[0mtsla_df\u001b[0m\u001b[1;33m[\u001b[0m\u001b[1;34m'Date'\u001b[0m\u001b[1;33m]\u001b[0m \u001b[1;33m=\u001b[0m \u001b[0mtsla_df\u001b[0m\u001b[1;33m.\u001b[0m\u001b[0mindex\u001b[0m\u001b[1;33m.\u001b[0m\u001b[0mmap\u001b[0m\u001b[1;33m(\u001b[0m\u001b[1;32mlambda\u001b[0m \u001b[0mx\u001b[0m\u001b[1;33m:\u001b[0m \u001b[0mdates\u001b[0m\u001b[1;33m.\u001b[0m\u001b[0mdate2num\u001b[0m\u001b[1;33m(\u001b[0m\u001b[0mx\u001b[0m\u001b[1;33m)\u001b[0m\u001b[1;33m)\u001b[0m\u001b[1;33m\u001b[0m\u001b[0m\n\u001b[0m\u001b[0;32m      2\u001b[0m \u001b[0mtsla_df\u001b[0m\u001b[1;33m\u001b[0m\u001b[0m\n",
      "\u001b[1;31mNameError\u001b[0m: name 'tsla_df' is not defined"
     ]
    }
   ],
   "source": [
    "tsla_df['Date'] = tsla_df.index.map(lambda x: dates.date2num(x))\n",
    "tsla_df"
   ]
  },
  {
   "cell_type": "code",
   "execution_count": 3,
   "metadata": {
    "scrolled": false
   },
   "outputs": [
    {
     "ename": "NameError",
     "evalue": "name 'tsla_df' is not defined",
     "output_type": "error",
     "traceback": [
      "\u001b[1;31m---------------------------------------------------------------------------\u001b[0m",
      "\u001b[1;31mNameError\u001b[0m                                 Traceback (most recent call last)",
      "\u001b[1;32m<ipython-input-3-77be46396186>\u001b[0m in \u001b[0;36m<module>\u001b[1;34m()\u001b[0m\n\u001b[0;32m      1\u001b[0m \u001b[0mstart\u001b[0m\u001b[1;33m=\u001b[0m\u001b[1;33m-\u001b[0m\u001b[1;36m100\u001b[0m\u001b[1;33m\u001b[0m\u001b[0m\n\u001b[0;32m      2\u001b[0m \u001b[0mfig\u001b[0m\u001b[1;33m,\u001b[0m \u001b[0max\u001b[0m \u001b[1;33m=\u001b[0m \u001b[0mplt\u001b[0m\u001b[1;33m.\u001b[0m\u001b[0msubplots\u001b[0m\u001b[1;33m(\u001b[0m\u001b[1;33m)\u001b[0m\u001b[1;33m\u001b[0m\u001b[0m\n\u001b[1;32m----> 3\u001b[1;33m \u001b[0mtsla_df\u001b[0m\u001b[1;33m.\u001b[0m\u001b[0miloc\u001b[0m\u001b[1;33m[\u001b[0m\u001b[0mstart\u001b[0m\u001b[1;33m:\u001b[0m\u001b[1;33m,\u001b[0m \u001b[0mnp\u001b[0m\u001b[1;33m.\u001b[0m\u001b[0margmax\u001b[0m\u001b[1;33m(\u001b[0m\u001b[0mtsla_df\u001b[0m\u001b[1;33m.\u001b[0m\u001b[0mcolumns\u001b[0m\u001b[1;33m==\u001b[0m\u001b[1;34m'21_MA'\u001b[0m\u001b[1;33m)\u001b[0m\u001b[1;33m]\u001b[0m\u001b[1;33m.\u001b[0m\u001b[0mplot\u001b[0m\u001b[1;33m(\u001b[0m\u001b[0max\u001b[0m\u001b[1;33m=\u001b[0m\u001b[0max\u001b[0m\u001b[1;33m)\u001b[0m\u001b[1;33m\u001b[0m\u001b[0m\n\u001b[0m\u001b[0;32m      4\u001b[0m \u001b[0mtsla_df\u001b[0m\u001b[1;33m.\u001b[0m\u001b[0miloc\u001b[0m\u001b[1;33m[\u001b[0m\u001b[0mstart\u001b[0m\u001b[1;33m:\u001b[0m\u001b[1;33m,\u001b[0m \u001b[0mnp\u001b[0m\u001b[1;33m.\u001b[0m\u001b[0margmax\u001b[0m\u001b[1;33m(\u001b[0m\u001b[0mtsla_df\u001b[0m\u001b[1;33m.\u001b[0m\u001b[0mcolumns\u001b[0m\u001b[1;33m==\u001b[0m\u001b[1;34m'5_MA'\u001b[0m\u001b[1;33m)\u001b[0m\u001b[1;33m]\u001b[0m\u001b[1;33m.\u001b[0m\u001b[0mplot\u001b[0m\u001b[1;33m(\u001b[0m\u001b[0max\u001b[0m\u001b[1;33m=\u001b[0m\u001b[0max\u001b[0m\u001b[1;33m)\u001b[0m\u001b[1;33m\u001b[0m\u001b[0m\n\u001b[0;32m      5\u001b[0m finance.candlestick_ochl(ax,\n",
      "\u001b[1;31mNameError\u001b[0m: name 'tsla_df' is not defined"
     ]
    }
   ],
   "source": [
    "start=-100\n",
    "fig, ax = plt.subplots()\n",
    "tsla_df.iloc[start:, np.argmax(tsla_df.columns=='21_MA')].plot(ax=ax)\n",
    "tsla_df.iloc[start:, np.argmax(tsla_df.columns=='5_MA')].plot(ax=ax)\n",
    "finance.candlestick_ochl(ax,\n",
    "                         quotes=tsla_df[['Date', 'Open', 'Close', 'High', 'Low']][start:].values,\n",
    "                         width=.5,\n",
    "                         colorup='green'\n",
    "                         )\n",
    "ax.xaxis.set_major_locator(ticker.MultipleLocator(7))\n",
    "plt.xticks(rotation=60)\n",
    "plt.ylabel(\"Price\")\n",
    "plt.title(\"TSLA OCHL graph with Moving Averages\")\n",
    "plt.legend()\n",
    "plt.show()"
   ]
  },
  {
   "cell_type": "markdown",
   "metadata": {},
   "source": [
    "# Setting upper and lower limits for buy and sell signals\n",
    "\n",
    "Bollinger bands are one of the tools used in technical analysis to assess risk in stock price based on volatility and was developed and made famous by a famous technical trader, John Bollinger. \n",
    "\n",
    "Volatility can be seen as a measure of how far a stock may move away from the mean. A stock entering a period of high volatility means that the moving average of the price for the stock/security/bond etc will divert away from that mean value greatly and low volatility means that the price swing will be more tight. \n",
    "\n",
    "Bollinger bands can be plotted as a central trend line for a stock calculated through a moving average and then has an upper and lower limit which is usually 1-2 standard deviations away from the average price. As mentioned earlier, high volatility is characterized by wider bands while lower volatility leads to the band contracting. Another general trend seen in stocks is periods of higher volatlity are usually followed by periods of low volatility and vice versa. Stocks don't follow a smooth normal trend but in fact operate in swings. However, this volatility spread is a double-edged sword. Higher volatility can be seen as a measure of risk in that the stock may either rise heavily or fall drastically. Hence the aspect of risk. This volatility measure does not tell us the direction of the swing, but rather shows us general trend guidelines that a stock may undergo. "
   ]
  },
  {
   "cell_type": "code",
   "execution_count": 4,
   "metadata": {
    "collapsed": true
   },
   "outputs": [],
   "source": [
    "def set_bollinger_bands(df, window):\n",
    "    df['{}_MA'.format(window)] = df['Adj Close'].rolling(window).mean()\n",
    "    df['Bollinger_upper'] = df['{}_MA'.format(window)] + df['Adj Close'].rolling(window).std()*2\n",
    "    df['Bollinger_lower'] = df['{}_MA'.format(window)] - df['Adj Close'].rolling(window).std()*2"
   ]
  },
  {
   "cell_type": "code",
   "execution_count": 5,
   "metadata": {},
   "outputs": [
    {
     "ename": "NameError",
     "evalue": "name 'dfs' is not defined",
     "output_type": "error",
     "traceback": [
      "\u001b[1;31m---------------------------------------------------------------------------\u001b[0m",
      "\u001b[1;31mNameError\u001b[0m                                 Traceback (most recent call last)",
      "\u001b[1;32m<ipython-input-5-b7d6f086d03a>\u001b[0m in \u001b[0;36m<module>\u001b[1;34m()\u001b[0m\n\u001b[1;32m----> 1\u001b[1;33m \u001b[1;32mfor\u001b[0m \u001b[0mitems\u001b[0m \u001b[1;32min\u001b[0m \u001b[0mdfs\u001b[0m\u001b[1;33m:\u001b[0m\u001b[1;33m\u001b[0m\u001b[0m\n\u001b[0m\u001b[0;32m      2\u001b[0m     \u001b[0mset_bollinger_bands\u001b[0m\u001b[1;33m(\u001b[0m\u001b[0mitems\u001b[0m\u001b[1;33m,\u001b[0m \u001b[1;36m20\u001b[0m\u001b[1;33m)\u001b[0m\u001b[1;33m\u001b[0m\u001b[0m\n",
      "\u001b[1;31mNameError\u001b[0m: name 'dfs' is not defined"
     ]
    }
   ],
   "source": [
    "for items in dfs:\n",
    "    set_bollinger_bands(items, 20)"
   ]
  },
  {
   "cell_type": "code",
   "execution_count": 6,
   "metadata": {},
   "outputs": [
    {
     "ename": "NameError",
     "evalue": "name 'tsla_df' is not defined",
     "output_type": "error",
     "traceback": [
      "\u001b[1;31m---------------------------------------------------------------------------\u001b[0m",
      "\u001b[1;31mNameError\u001b[0m                                 Traceback (most recent call last)",
      "\u001b[1;32m<ipython-input-6-21bfce135f00>\u001b[0m in \u001b[0;36m<module>\u001b[1;34m()\u001b[0m\n\u001b[0;32m      1\u001b[0m \u001b[0mstart\u001b[0m\u001b[1;33m=\u001b[0m\u001b[1;33m-\u001b[0m\u001b[1;36m100\u001b[0m\u001b[1;33m\u001b[0m\u001b[0m\n\u001b[0;32m      2\u001b[0m \u001b[0mfig\u001b[0m\u001b[1;33m,\u001b[0m \u001b[0max\u001b[0m \u001b[1;33m=\u001b[0m \u001b[0mplt\u001b[0m\u001b[1;33m.\u001b[0m\u001b[0msubplots\u001b[0m\u001b[1;33m(\u001b[0m\u001b[1;33m)\u001b[0m\u001b[1;33m\u001b[0m\u001b[0m\n\u001b[1;32m----> 3\u001b[1;33m \u001b[0mtsla_df\u001b[0m\u001b[1;33m[\u001b[0m\u001b[1;34m'Adj Close'\u001b[0m\u001b[1;33m]\u001b[0m\u001b[1;33m[\u001b[0m\u001b[0mstart\u001b[0m\u001b[1;33m:\u001b[0m\u001b[1;33m]\u001b[0m\u001b[1;33m.\u001b[0m\u001b[0mplot\u001b[0m\u001b[1;33m(\u001b[0m\u001b[0mkind\u001b[0m\u001b[1;33m=\u001b[0m\u001b[1;34m'line'\u001b[0m\u001b[1;33m)\u001b[0m\u001b[1;33m\u001b[0m\u001b[0m\n\u001b[0m\u001b[0;32m      4\u001b[0m \u001b[0mtsla_df\u001b[0m\u001b[1;33m[\u001b[0m\u001b[1;34m'Bollinger_upper'\u001b[0m\u001b[1;33m]\u001b[0m\u001b[1;33m[\u001b[0m\u001b[0mstart\u001b[0m\u001b[1;33m:\u001b[0m\u001b[1;33m]\u001b[0m\u001b[1;33m.\u001b[0m\u001b[0mplot\u001b[0m\u001b[1;33m(\u001b[0m\u001b[0mkind\u001b[0m\u001b[1;33m=\u001b[0m\u001b[1;34m'line'\u001b[0m\u001b[1;33m)\u001b[0m\u001b[1;33m\u001b[0m\u001b[0m\n\u001b[0;32m      5\u001b[0m \u001b[0mtsla_df\u001b[0m\u001b[1;33m[\u001b[0m\u001b[1;34m'Bollinger_lower'\u001b[0m\u001b[1;33m]\u001b[0m\u001b[1;33m[\u001b[0m\u001b[0mstart\u001b[0m\u001b[1;33m:\u001b[0m\u001b[1;33m]\u001b[0m\u001b[1;33m.\u001b[0m\u001b[0mplot\u001b[0m\u001b[1;33m(\u001b[0m\u001b[0mkind\u001b[0m\u001b[1;33m=\u001b[0m\u001b[1;34m'line'\u001b[0m\u001b[1;33m)\u001b[0m\u001b[1;33m\u001b[0m\u001b[0m\n",
      "\u001b[1;31mNameError\u001b[0m: name 'tsla_df' is not defined"
     ]
    }
   ],
   "source": [
    "start=-100\n",
    "fig, ax = plt.subplots()\n",
    "tsla_df['Adj Close'][start:].plot(kind='line')\n",
    "tsla_df['Bollinger_upper'][start:].plot(kind='line')\n",
    "tsla_df['Bollinger_lower'][start:].plot(kind='line')\n",
    "ax.xaxis.set_major_locator(ticker.MultipleLocator(7))\n",
    "plt.xticks(rotation=60)\n",
    "plt.title(\"TSLA Bollinger Bands (20-Day MA)\")\n",
    "plt.ylabel('Price')\n",
    "plt.legend()\n",
    "plt.show()"
   ]
  },
  {
   "cell_type": "code",
   "execution_count": 7,
   "metadata": {},
   "outputs": [
    {
     "ename": "NameError",
     "evalue": "name 'dfs' is not defined",
     "output_type": "error",
     "traceback": [
      "\u001b[1;31m---------------------------------------------------------------------------\u001b[0m",
      "\u001b[1;31mNameError\u001b[0m                                 Traceback (most recent call last)",
      "\u001b[1;32m<ipython-input-7-eb7f80bc4c7e>\u001b[0m in \u001b[0;36m<module>\u001b[1;34m()\u001b[0m\n\u001b[1;32m----> 1\u001b[1;33m \u001b[1;32mfor\u001b[0m \u001b[0mitems\u001b[0m \u001b[1;32min\u001b[0m \u001b[0mdfs\u001b[0m\u001b[1;33m:\u001b[0m\u001b[1;33m\u001b[0m\u001b[0m\n\u001b[0m\u001b[0;32m      2\u001b[0m     \u001b[0mset_bollinger_bands\u001b[0m\u001b[1;33m(\u001b[0m\u001b[0mitems\u001b[0m\u001b[1;33m,\u001b[0m \u001b[1;36m5\u001b[0m\u001b[1;33m)\u001b[0m\u001b[1;33m\u001b[0m\u001b[0m\n\u001b[0;32m      3\u001b[0m \u001b[1;33m\u001b[0m\u001b[0m\n\u001b[0;32m      4\u001b[0m \u001b[0mfig\u001b[0m\u001b[1;33m,\u001b[0m \u001b[0max\u001b[0m \u001b[1;33m=\u001b[0m \u001b[0mplt\u001b[0m\u001b[1;33m.\u001b[0m\u001b[0msubplots\u001b[0m\u001b[1;33m(\u001b[0m\u001b[1;33m)\u001b[0m\u001b[1;33m\u001b[0m\u001b[0m\n\u001b[0;32m      5\u001b[0m \u001b[0mstart\u001b[0m\u001b[1;33m=\u001b[0m\u001b[1;33m-\u001b[0m\u001b[1;36m100\u001b[0m\u001b[1;33m\u001b[0m\u001b[0m\n",
      "\u001b[1;31mNameError\u001b[0m: name 'dfs' is not defined"
     ]
    }
   ],
   "source": [
    "for items in dfs:\n",
    "    set_bollinger_bands(items, 5)\n",
    "\n",
    "fig, ax = plt.subplots()\n",
    "start=-100\n",
    "tsla_df['Adj Close'][start:].plot(kind='line')\n",
    "tsla_df['Bollinger_upper'][start:].plot(kind='line')\n",
    "tsla_df['Bollinger_lower'][start:].plot(kind='line')\n",
    "plt.xticks(rotation=60)\n",
    "ax.xaxis.set_major_locator(ticker.MultipleLocator(7))\n",
    "plt.title(\"TSLA Bollinger Bands (5-Day MA)\")\n",
    "plt.ylabel('Price')\n",
    "plt.legend()\n",
    "plt.show()"
   ]
  },
  {
   "cell_type": "markdown",
   "metadata": {},
   "source": [
    "# Exit methodologies for different volatility measures\n",
    "\n",
    "### MAC-D (Moving Average Convergence - Divergence)\n",
    "\n",
    "Uses the difference between short terma nd long term price trends to anticipate movements. \n",
    "\n",
    "Calculated by subtracting 26 day Exponential Moving Average (EMA) from a 12 day EMA. Plot on graph afterwards\n",
    "\n",
    "Plot a 9-day MA called the signal line. When the MAC line cross above the signal line, this should signal a bullish movement in which case the investor should buy."
   ]
  },
  {
   "cell_type": "code",
   "execution_count": null,
   "metadata": {
    "collapsed": true
   },
   "outputs": [],
   "source": []
  },
  {
   "cell_type": "markdown",
   "metadata": {},
   "source": [
    "# Checking for stationary in data before  we start modeling\n",
    "\n",
    "Other than visual inspection of our data as well as looking at descriptive statistics for our stocks to determine stationarity, we can rely on more stringent statistical tests to evaluate the degree to which our data is likely to be stationary or not.\n",
    "\n",
    "Based on previous inspection of the TSLA stock, we can clearly see that there is a trend to the data. Seasonality does not seem be as apparent at the monthly or weekly level."
   ]
  },
  {
   "cell_type": "code",
   "execution_count": 8,
   "metadata": {},
   "outputs": [
    {
     "ename": "NameError",
     "evalue": "name 'tsla_df' is not defined",
     "output_type": "error",
     "traceback": [
      "\u001b[1;31m---------------------------------------------------------------------------\u001b[0m",
      "\u001b[1;31mNameError\u001b[0m                                 Traceback (most recent call last)",
      "\u001b[1;32m<ipython-input-8-37ee4f46da04>\u001b[0m in \u001b[0;36m<module>\u001b[1;34m()\u001b[0m\n\u001b[1;32m----> 1\u001b[1;33m \u001b[0mtsla_df\u001b[0m\u001b[1;33m[\u001b[0m\u001b[1;34m'Adj Close'\u001b[0m\u001b[1;33m]\u001b[0m\u001b[1;33m[\u001b[0m\u001b[1;33m-\u001b[0m\u001b[1;36m20\u001b[0m\u001b[1;33m:\u001b[0m\u001b[1;33m]\u001b[0m\u001b[1;33m.\u001b[0m\u001b[0mplot\u001b[0m\u001b[1;33m(\u001b[0m\u001b[1;33m)\u001b[0m\u001b[1;33m\u001b[0m\u001b[0m\n\u001b[0m\u001b[0;32m      2\u001b[0m \u001b[0mplt\u001b[0m\u001b[1;33m.\u001b[0m\u001b[0mtitle\u001b[0m\u001b[1;33m(\u001b[0m\u001b[1;34m\"TSLA stock for the past 20 days\"\u001b[0m\u001b[1;33m)\u001b[0m\u001b[1;33m\u001b[0m\u001b[0m\n\u001b[0;32m      3\u001b[0m \u001b[0mplt\u001b[0m\u001b[1;33m.\u001b[0m\u001b[0mshow\u001b[0m\u001b[1;33m(\u001b[0m\u001b[1;33m)\u001b[0m\u001b[1;33m\u001b[0m\u001b[0m\n\u001b[0;32m      4\u001b[0m \u001b[1;33m\u001b[0m\u001b[0m\n\u001b[0;32m      5\u001b[0m \u001b[0mfig\u001b[0m\u001b[1;33m,\u001b[0m \u001b[0max\u001b[0m \u001b[1;33m=\u001b[0m \u001b[0mplt\u001b[0m\u001b[1;33m.\u001b[0m\u001b[0msubplots\u001b[0m\u001b[1;33m(\u001b[0m\u001b[1;33m)\u001b[0m\u001b[1;33m\u001b[0m\u001b[0m\n",
      "\u001b[1;31mNameError\u001b[0m: name 'tsla_df' is not defined"
     ]
    }
   ],
   "source": [
    "tsla_df['Adj Close'][-20:].plot()\n",
    "plt.title(\"TSLA stock for the past 20 days\")\n",
    "plt.show()\n",
    "\n",
    "fig, ax = plt.subplots()\n",
    "tsla_df['Adj Close'][-60:].plot()\n",
    "plt.title(\"TSLA stock for the past 60 days\")\n",
    "ax.xaxis.set_major_locator(ticker.MultipleLocator(27))\n",
    "plt.xticks(rotation=60)\n",
    "plt.show()"
   ]
  },
  {
   "cell_type": "code",
   "execution_count": 9,
   "metadata": {},
   "outputs": [
    {
     "ename": "NameError",
     "evalue": "name 'tsla_df' is not defined",
     "output_type": "error",
     "traceback": [
      "\u001b[1;31m---------------------------------------------------------------------------\u001b[0m",
      "\u001b[1;31mNameError\u001b[0m                                 Traceback (most recent call last)",
      "\u001b[1;32m<ipython-input-9-078c96bad4b1>\u001b[0m in \u001b[0;36m<module>\u001b[1;34m()\u001b[0m\n\u001b[0;32m      9\u001b[0m     \u001b[1;32mreturn\u001b[0m\u001b[1;33m\u001b[0m\u001b[0m\n\u001b[0;32m     10\u001b[0m \u001b[1;33m\u001b[0m\u001b[0m\n\u001b[1;32m---> 11\u001b[1;33m \u001b[0mcheck_stationarity\u001b[0m\u001b[1;33m(\u001b[0m\u001b[0mtsla_df\u001b[0m\u001b[1;33m,\u001b[0m \u001b[1;34m'Adj Close'\u001b[0m\u001b[1;33m)\u001b[0m\u001b[1;33m\u001b[0m\u001b[0m\n\u001b[0m",
      "\u001b[1;31mNameError\u001b[0m: name 'tsla_df' is not defined"
     ]
    }
   ],
   "source": [
    "def check_stationarity(df, item):\n",
    "    X = df[str(item)]\n",
    "    result = adfuller(X)\n",
    "    print('ADF Statistic: {:.3f}'.format(result[0]))\n",
    "    print('p-value: {:.3f}'.format(result[1]))\n",
    "    print('Critical Values:')\n",
    "    for key, value in result[4].items():\n",
    "        print('\\t{}: {:.3f}'.format(key, value))\n",
    "    return\n",
    "        \n",
    "check_stationarity(tsla_df, 'Adj Close')"
   ]
  },
  {
   "cell_type": "markdown",
   "metadata": {},
   "source": [
    "The above result shows that our Tesla stock close price is likely to not be stationary as the p value for our result was above .05, therefor we cannot reject the null hypothesis that our data is not stationary."
   ]
  },
  {
   "cell_type": "markdown",
   "metadata": {},
   "source": [
    "# Modeling volatility - ARCH\n",
    "\n",
    "The ARCH or Autoregressive Conditional Heteroskedasticity method provides a way to model a change in variance in a time series that is time dependent, such as increasing or decreasing volatility. But before we get into the details for such modeling, we have to understand why we are using this method in the first place.\n",
    "\n",
    "Autoregressive models have been developed to capture time series data that is stationary (AR), has a trend (ARIMA), and has a seasonal component as well (SARIMA). These models try to model the conditional mean of a stochastic process. The problem with these models is that they do not capture variance over a period of time. In some cases with modest variance in the time series data we could apply a log or box cox transformation to the stationary data in order to capture that effect, but that won't always be the case. Most of the time in real world data, we have different variances for the time series at various points in time. This refers to the heteorskedastic nature of the data. This is where ARCH models were developed to capture and model this uneven variance over time.\n",
    "\n",
    "ARCH models try to model the variance in a time series at every time step as a function by looking at the residual errors from a mean process (such as 0 mean). ARCH models take a parameter called __q__ that is the lag order for the residual term. It refers to how far back in error terms it should look for modeling variance. Like ARMA models and its variants, the data is expected to be stationary. \n",
    "\n",
    "ARCH models should be used on top of ARMA models to capture both the conditional mean and variance of a stochastic process. "
   ]
  },
  {
   "cell_type": "code",
   "execution_count": 140,
   "metadata": {},
   "outputs": [
    {
     "data": {
      "image/png": "[encoded data removed]",
      "text/plain": [
       "<Figure size 1080x504 with 1 Axes>"
      ]
     },
     "metadata": {},
     "output_type": "display_data"
    }
   ],
   "source": [
    "tsla_df['Diff_2'] = tsla_df['Adj Close'] - tsla_df['Adj Close'].shift(1)\n",
    "tsla_df['Diff_2'][-252:].plot()\n",
    "plt.show()"
   ]
  },
  {
   "cell_type": "code",
   "execution_count": 90,
   "metadata": {},
   "outputs": [
    {
     "data": {
      "text/html": [
       "<div>\n",
       "<style scoped>\n",
       "    .dataframe tbody tr th:only-of-type {\n",
       "        vertical-align: middle;\n",
       "    }\n",
       "\n",
       "    .dataframe tbody tr th {\n",
       "        vertical-align: top;\n",
       "    }\n",
       "\n",
       "    .dataframe thead th {\n",
       "        text-align: right;\n",
       "    }\n",
       "</style>\n",
       "<table border=\"1\" class=\"dataframe\">\n",
       "  <thead>\n",
       "    <tr style=\"text-align: right;\">\n",
       "      <th></th>\n",
       "      <th>Adj Close</th>\n",
       "      <th>Diff_1</th>\n",
       "    </tr>\n",
       "    <tr>\n",
       "      <th>Date</th>\n",
       "      <th></th>\n",
       "      <th></th>\n",
       "    </tr>\n",
       "  </thead>\n",
       "  <tbody>\n",
       "    <tr>\n",
       "      <th>2010-06-29</th>\n",
       "      <td>23.889999</td>\n",
       "      <td>NaN</td>\n",
       "    </tr>\n",
       "    <tr>\n",
       "      <th>2010-06-30</th>\n",
       "      <td>23.830000</td>\n",
       "      <td>-0.059999</td>\n",
       "    </tr>\n",
       "    <tr>\n",
       "      <th>2010-07-01</th>\n",
       "      <td>21.959999</td>\n",
       "      <td>-1.870001</td>\n",
       "    </tr>\n",
       "    <tr>\n",
       "      <th>2010-07-02</th>\n",
       "      <td>19.200001</td>\n",
       "      <td>-2.759998</td>\n",
       "    </tr>\n",
       "    <tr>\n",
       "      <th>2010-07-06</th>\n",
       "      <td>16.110001</td>\n",
       "      <td>-3.090000</td>\n",
       "    </tr>\n",
       "  </tbody>\n",
       "</table>\n",
       "</div>"
      ],
      "text/plain": [
       "            Adj Close    Diff_1\n",
       "Date                           \n",
       "2010-06-29  23.889999       NaN\n",
       "2010-06-30  23.830000 -0.059999\n",
       "2010-07-01  21.959999 -1.870001\n",
       "2010-07-02  19.200001 -2.759998\n",
       "2010-07-06  16.110001 -3.090000"
      ]
     },
     "execution_count": 90,
     "metadata": {},
     "output_type": "execute_result"
    }
   ],
   "source": [
    "tsla_df[['Adj Close', 'Diff_1']].head()"
   ]
  },
  {
   "cell_type": "code",
   "execution_count": 91,
   "metadata": {},
   "outputs": [
    {
     "name": "stdout",
     "output_type": "stream",
     "text": [
      "ADF Statistic: -47.652\n",
      "p-value: 0.000\n",
      "Critical Values:\n",
      "\t1%: -3.433\n",
      "\t5%: -2.863\n",
      "\t10%: -2.567\n"
     ]
    }
   ],
   "source": [
    "check_stationarity(tsla_df[1:], 'Diff_1')\n",
    "\n",
    "# It seems like our differences data is stationary after all"
   ]
  },
  {
   "cell_type": "code",
   "execution_count": 96,
   "metadata": {},
   "outputs": [
    {
     "data": {
      "image/png": "[encoded data removed]",
      "text/plain": [
       "<Figure size 720x360 with 1 Axes>"
      ]
     },
     "metadata": {},
     "output_type": "display_data"
    },
    {
     "data": {
      "image/png": "[encoded data removed]",
      "text/plain": [
       "<Figure size 720x360 with 1 Axes>"
      ]
     },
     "metadata": {},
     "output_type": "display_data"
    }
   ],
   "source": [
    "def run_autocorrelations(df, factor):\n",
    "    x_acf = pd.Series(acf(df[factor]))\n",
    "    x_acf.plot(kind='bar', figsize=(10,5))\n",
    "    plt.title(\"ACF\")\n",
    "    plt.show()\n",
    "    x_pacf = pd.Series(pacf(df[factor]))\n",
    "    x_pacf.plot(kind='bar', figsize=(10,5))\n",
    "    plt.title(\"PACF\")\n",
    "    plt.show()\n",
    "    return\n",
    "\n",
    "run_autocorrelations(tsla_df, 'Adj Close')"
   ]
  },
  {
   "cell_type": "code",
   "execution_count": 97,
   "metadata": {},
   "outputs": [
    {
     "data": {
      "image/png": "[encoded data removed]",
      "text/plain": [
       "<Figure size 720x360 with 1 Axes>"
      ]
     },
     "metadata": {},
     "output_type": "display_data"
    },
    {
     "data": {
      "image/png": "[encoded data removed]",
      "text/plain": [
       "<Figure size 720x360 with 1 Axes>"
      ]
     },
     "metadata": {},
     "output_type": "display_data"
    }
   ],
   "source": [
    "run_autocorrelations(tsla_df[1:], 'Diff_1')"
   ]
  },
  {
   "cell_type": "code",
   "execution_count": 126,
   "metadata": {
    "collapsed": true
   },
   "outputs": [],
   "source": [
    "def evaluate_arima(order, factor, df, split_size=.8):\n",
    "    split = int(len(df)*split_size)\n",
    "    train = df.iloc[:split]\n",
    "    test = pd.DataFrame(df.iloc[split:, np.argmax(df.columns==factor)].reset_index())\n",
    "    arima = ARIMA(train[factor], order=order)\n",
    "    model_fit = arima.fit()\n",
    "    # setting up in-sample predictions. set type='levels' in order to return predictions in oridinal scale in case we use \n",
    "    # differencing\n",
    "    pred = model_fit.predict(start=split, end=int(len(df))-1, typ= 'levels')\n",
    "    error = mse(test[factor], pred)\n",
    "    return [str(order), error]\n",
    "\n",
    "def best_model_params(df, factor, limit=1, split_size=.8):\n",
    "    best_mse, best_param=1e11, None\n",
    "    for p in range(limit):\n",
    "        for d in range(2): #We want to check either at a difference of 1 or none at all\n",
    "            for q in range(limit):\n",
    "                try:\n",
    "                    print(p)\n",
    "                    result = evaluate_arima(order=[p,d,q], df=df, factor=factor, split_size=split_size)\n",
    "                except:\n",
    "                    continue\n",
    "                if result[1]<best_mse:\n",
    "                    best_mse=result[1]\n",
    "                    best_param = [p,d,q]\n",
    "    return \"{:.3f}\".format(best_mse), best_param"
   ]
  },
  {
   "cell_type": "code",
   "execution_count": 133,
   "metadata": {},
   "outputs": [
    {
     "name": "stderr",
     "output_type": "stream",
     "text": [
      "C:\\Users\\sohai\\Miniconda3\\lib\\site-packages\\statsmodels\\tsa\\base\\tsa_model.py:225: ValueWarning: A date index has been provided, but it has no associated frequency information and so will be ignored when e.g. forecasting.\n",
      "  ' ignored when e.g. forecasting.', ValueWarning)\n",
      "C:\\Users\\sohai\\Miniconda3\\lib\\site-packages\\statsmodels\\tsa\\base\\tsa_model.py:225: ValueWarning: A date index has been provided, but it has no associated frequency information and so will be ignored when e.g. forecasting.\n",
      "  ' ignored when e.g. forecasting.', ValueWarning)\n",
      "C:\\Users\\sohai\\Miniconda3\\lib\\site-packages\\statsmodels\\tsa\\base\\tsa_model.py:531: ValueWarning: No supported index is available. Prediction results will be given with an integer index beginning at `start`.\n",
      "  ValueWarning)\n",
      "C:\\Users\\sohai\\Miniconda3\\lib\\site-packages\\statsmodels\\tsa\\base\\tsa_model.py:531: ValueWarning: No supported index is available. Prediction results will be given with an integer index beginning at `start`.\n",
      "  ValueWarning)\n"
     ]
    },
    {
     "data": {
      "text/plain": [
       "['[1, 1, 1]', 371.5006497072567]"
      ]
     },
     "execution_count": 133,
     "metadata": {},
     "output_type": "execute_result"
    }
   ],
   "source": [
    "evaluate_arima([1,1,1], df=tsla_df[-252:], factor='Adj Close')"
   ]
  },
  {
   "cell_type": "code",
   "execution_count": 132,
   "metadata": {},
   "outputs": [
    {
     "name": "stderr",
     "output_type": "stream",
     "text": [
      "C:\\Users\\sohai\\Miniconda3\\lib\\site-packages\\statsmodels\\tsa\\base\\tsa_model.py:225: ValueWarning: A date index has been provided, but it has no associated frequency information and so will be ignored when e.g. forecasting.\n",
      "  ' ignored when e.g. forecasting.', ValueWarning)\n"
     ]
    },
    {
     "ename": "ValueError",
     "evalue": "The computed initial AR coefficients are not stationary\nYou should induce stationarity, choose a different model order, or you can\npass your own start_params.",
     "output_type": "error",
     "traceback": [
      "\u001b[1;31m---------------------------------------------------------------------------\u001b[0m",
      "\u001b[1;31mValueError\u001b[0m                                Traceback (most recent call last)",
      "\u001b[1;32m<ipython-input-132-738f4bac14e5>\u001b[0m in \u001b[0;36m<module>\u001b[1;34m\u001b[0m\n\u001b[1;32m----> 1\u001b[1;33m \u001b[0mevaluate_arima\u001b[0m\u001b[1;33m(\u001b[0m\u001b[1;33m[\u001b[0m\u001b[1;36m2\u001b[0m\u001b[1;33m,\u001b[0m\u001b[1;36m0\u001b[0m\u001b[1;33m,\u001b[0m\u001b[1;36m2\u001b[0m\u001b[1;33m]\u001b[0m\u001b[1;33m,\u001b[0m \u001b[0mfactor\u001b[0m\u001b[1;33m=\u001b[0m\u001b[1;34m'Diff_1'\u001b[0m\u001b[1;33m,\u001b[0m \u001b[0mdf\u001b[0m\u001b[1;33m=\u001b[0m\u001b[0mtsla_df\u001b[0m\u001b[1;33m[\u001b[0m\u001b[1;36m1\u001b[0m\u001b[1;33m:\u001b[0m\u001b[1;33m]\u001b[0m\u001b[1;33m)\u001b[0m\u001b[1;33m\u001b[0m\u001b[1;33m\u001b[0m\u001b[0m\n\u001b[0m",
      "\u001b[1;32m<ipython-input-126-03fb08377116>\u001b[0m in \u001b[0;36mevaluate_arima\u001b[1;34m(order, factor, df, split_size)\u001b[0m\n\u001b[0;32m      4\u001b[0m     \u001b[0mtest\u001b[0m \u001b[1;33m=\u001b[0m \u001b[0mpd\u001b[0m\u001b[1;33m.\u001b[0m\u001b[0mDataFrame\u001b[0m\u001b[1;33m(\u001b[0m\u001b[0mdf\u001b[0m\u001b[1;33m.\u001b[0m\u001b[0miloc\u001b[0m\u001b[1;33m[\u001b[0m\u001b[0msplit\u001b[0m\u001b[1;33m:\u001b[0m\u001b[1;33m,\u001b[0m \u001b[0mnp\u001b[0m\u001b[1;33m.\u001b[0m\u001b[0margmax\u001b[0m\u001b[1;33m(\u001b[0m\u001b[0mdf\u001b[0m\u001b[1;33m.\u001b[0m\u001b[0mcolumns\u001b[0m\u001b[1;33m==\u001b[0m\u001b[0mfactor\u001b[0m\u001b[1;33m)\u001b[0m\u001b[1;33m]\u001b[0m\u001b[1;33m.\u001b[0m\u001b[0mreset_index\u001b[0m\u001b[1;33m(\u001b[0m\u001b[1;33m)\u001b[0m\u001b[1;33m)\u001b[0m\u001b[1;33m\u001b[0m\u001b[1;33m\u001b[0m\u001b[0m\n\u001b[0;32m      5\u001b[0m     \u001b[0marima\u001b[0m \u001b[1;33m=\u001b[0m \u001b[0mARIMA\u001b[0m\u001b[1;33m(\u001b[0m\u001b[0mtrain\u001b[0m\u001b[1;33m[\u001b[0m\u001b[0mfactor\u001b[0m\u001b[1;33m]\u001b[0m\u001b[1;33m,\u001b[0m \u001b[0morder\u001b[0m\u001b[1;33m=\u001b[0m\u001b[0morder\u001b[0m\u001b[1;33m)\u001b[0m\u001b[1;33m\u001b[0m\u001b[1;33m\u001b[0m\u001b[0m\n\u001b[1;32m----> 6\u001b[1;33m     \u001b[0mmodel_fit\u001b[0m \u001b[1;33m=\u001b[0m \u001b[0marima\u001b[0m\u001b[1;33m.\u001b[0m\u001b[0mfit\u001b[0m\u001b[1;33m(\u001b[0m\u001b[1;33m)\u001b[0m\u001b[1;33m\u001b[0m\u001b[1;33m\u001b[0m\u001b[0m\n\u001b[0m\u001b[0;32m      7\u001b[0m     \u001b[1;31m# setting up in-sample predictions. set type='levels' in order to return predictions in oridinal scale in case we use\u001b[0m\u001b[1;33m\u001b[0m\u001b[1;33m\u001b[0m\u001b[1;33m\u001b[0m\u001b[0m\n\u001b[0;32m      8\u001b[0m     \u001b[1;31m# differencing\u001b[0m\u001b[1;33m\u001b[0m\u001b[1;33m\u001b[0m\u001b[1;33m\u001b[0m\u001b[0m\n",
      "\u001b[1;32m~\\Miniconda3\\lib\\site-packages\\statsmodels\\tsa\\arima_model.py\u001b[0m in \u001b[0;36mfit\u001b[1;34m(self, start_params, trend, method, transparams, solver, maxiter, full_output, disp, callback, start_ar_lags, **kwargs)\u001b[0m\n\u001b[0;32m    944\u001b[0m         \u001b[1;32melse\u001b[0m\u001b[1;33m:\u001b[0m  \u001b[1;31m# estimate starting parameters\u001b[0m\u001b[1;33m\u001b[0m\u001b[1;33m\u001b[0m\u001b[0m\n\u001b[0;32m    945\u001b[0m             start_params = self._fit_start_params((k_ar, k_ma, k), method,\n\u001b[1;32m--> 946\u001b[1;33m                                                   start_ar_lags)\n\u001b[0m\u001b[0;32m    947\u001b[0m \u001b[1;33m\u001b[0m\u001b[0m\n\u001b[0;32m    948\u001b[0m         \u001b[1;32mif\u001b[0m \u001b[0mtransparams\u001b[0m\u001b[1;33m:\u001b[0m  \u001b[1;31m# transform initial parameters to ensure invertibility\u001b[0m\u001b[1;33m\u001b[0m\u001b[1;33m\u001b[0m\u001b[0m\n",
      "\u001b[1;32m~\\Miniconda3\\lib\\site-packages\\statsmodels\\tsa\\arima_model.py\u001b[0m in \u001b[0;36m_fit_start_params\u001b[1;34m(self, order, method, start_ar_lags)\u001b[0m\n\u001b[0;32m    560\u001b[0m             \u001b[0mfunc\u001b[0m \u001b[1;33m=\u001b[0m \u001b[1;32mlambda\u001b[0m \u001b[0mparams\u001b[0m\u001b[1;33m:\u001b[0m \u001b[1;33m-\u001b[0m\u001b[0mself\u001b[0m\u001b[1;33m.\u001b[0m\u001b[0mloglike_css\u001b[0m\u001b[1;33m(\u001b[0m\u001b[0mparams\u001b[0m\u001b[1;33m)\u001b[0m\u001b[1;33m\u001b[0m\u001b[1;33m\u001b[0m\u001b[0m\n\u001b[0;32m    561\u001b[0m             \u001b[1;31m#start_params = [.1]*(k_ar+k_ma+k_exog) # different one for k?\u001b[0m\u001b[1;33m\u001b[0m\u001b[1;33m\u001b[0m\u001b[1;33m\u001b[0m\u001b[0m\n\u001b[1;32m--> 562\u001b[1;33m             \u001b[0mstart_params\u001b[0m \u001b[1;33m=\u001b[0m \u001b[0mself\u001b[0m\u001b[1;33m.\u001b[0m\u001b[0m_fit_start_params_hr\u001b[0m\u001b[1;33m(\u001b[0m\u001b[0morder\u001b[0m\u001b[1;33m,\u001b[0m \u001b[0mstart_ar_lags\u001b[0m\u001b[1;33m)\u001b[0m\u001b[1;33m\u001b[0m\u001b[1;33m\u001b[0m\u001b[0m\n\u001b[0m\u001b[0;32m    563\u001b[0m             \u001b[1;32mif\u001b[0m \u001b[0mself\u001b[0m\u001b[1;33m.\u001b[0m\u001b[0mtransparams\u001b[0m\u001b[1;33m:\u001b[0m\u001b[1;33m\u001b[0m\u001b[1;33m\u001b[0m\u001b[0m\n\u001b[0;32m    564\u001b[0m                 \u001b[0mstart_params\u001b[0m \u001b[1;33m=\u001b[0m \u001b[0mself\u001b[0m\u001b[1;33m.\u001b[0m\u001b[0m_invtransparams\u001b[0m\u001b[1;33m(\u001b[0m\u001b[0mstart_params\u001b[0m\u001b[1;33m)\u001b[0m\u001b[1;33m\u001b[0m\u001b[1;33m\u001b[0m\u001b[0m\n",
      "\u001b[1;32m~\\Miniconda3\\lib\\site-packages\\statsmodels\\tsa\\arima_model.py\u001b[0m in \u001b[0;36m_fit_start_params_hr\u001b[1;34m(self, order, start_ar_lags)\u001b[0m\n\u001b[0;32m    539\u001b[0m         if p and not np.all(np.abs(np.roots(np.r_[1, -start_params[k:k + p]]\n\u001b[0;32m    540\u001b[0m                                             )) < 1):\n\u001b[1;32m--> 541\u001b[1;33m             raise ValueError(\"The computed initial AR coefficients are not \"\n\u001b[0m\u001b[0;32m    542\u001b[0m                              \u001b[1;34m\"stationary\\nYou should induce stationarity, \"\u001b[0m\u001b[1;33m\u001b[0m\u001b[1;33m\u001b[0m\u001b[0m\n\u001b[0;32m    543\u001b[0m                              \u001b[1;34m\"choose a different model order, or you can\\n\"\u001b[0m\u001b[1;33m\u001b[0m\u001b[1;33m\u001b[0m\u001b[0m\n",
      "\u001b[1;31mValueError\u001b[0m: The computed initial AR coefficients are not stationary\nYou should induce stationarity, choose a different model order, or you can\npass your own start_params."
     ]
    }
   ],
   "source": [
    "evaluate_arima([2,0,2], factor='Diff_1', df=tsla_df[1:])"
   ]
  },
  {
   "cell_type": "code",
   "execution_count": null,
   "metadata": {
    "collapsed": true
   },
   "outputs": [],
   "source": []
  }
 ],
 "metadata": {
  "kernelspec": {
   "display_name": "Python 3",
   "language": "python",
   "name": "python3"
  },
  "language_info": {
   "codemirror_mode": {
    "name": "ipython",
    "version": 3
   },
   "file_extension": ".py",
   "mimetype": "text/x-python",
   "name": "python",
   "nbconvert_exporter": "python",
   "pygments_lexer": "ipython3",
   "version": "3.6.3"
  }
 },
 "nbformat": 4,
 "nbformat_minor": 2
}
